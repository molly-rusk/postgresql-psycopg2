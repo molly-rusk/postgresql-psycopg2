{
 "cells": [
  {
   "cell_type": "code",
   "execution_count": 5,
   "id": "6031991b",
   "metadata": {},
   "outputs": [],
   "source": [
    "secret = 'password'"
   ]
  },
  {
   "cell_type": "code",
   "execution_count": 6,
   "id": "2d504e60",
   "metadata": {},
   "outputs": [],
   "source": [
    "import psycopg2 as pg2"
   ]
  },
  {
   "cell_type": "code",
   "execution_count": 7,
   "id": "f581650a",
   "metadata": {},
   "outputs": [],
   "source": [
    "conn = pg2.connect(database='dvdrental',user='postgres',password=secret)"
   ]
  },
  {
   "cell_type": "code",
   "execution_count": 8,
   "id": "b393b30c",
   "metadata": {},
   "outputs": [],
   "source": [
    "cur = conn.cursor() "
   ]
  },
  {
   "cell_type": "code",
   "execution_count": 9,
   "id": "ab64b64c",
   "metadata": {},
   "outputs": [],
   "source": [
    "cur.execute('SELECT * FROM payment')"
   ]
  },
  {
   "cell_type": "code",
   "execution_count": 10,
   "id": "ddf2138c",
   "metadata": {
    "scrolled": true
   },
   "outputs": [
    {
     "data": {
      "text/plain": [
       "(17503,\n",
       " 341,\n",
       " 2,\n",
       " 1520,\n",
       " Decimal('7.99'),\n",
       " datetime.datetime(2007, 2, 15, 22, 25, 46, 996577))"
      ]
     },
     "execution_count": 10,
     "metadata": {},
     "output_type": "execute_result"
    }
   ],
   "source": [
    "cur.fetchone()"
   ]
  },
  {
   "cell_type": "code",
   "execution_count": 12,
   "id": "1d3f7477",
   "metadata": {
    "scrolled": true
   },
   "outputs": [],
   "source": [
    "data = cur.fetchmany(10)"
   ]
  },
  {
   "cell_type": "code",
   "execution_count": 13,
   "id": "9dc361a5",
   "metadata": {},
   "outputs": [
    {
     "data": {
      "text/plain": [
       "(17514,\n",
       " 343,\n",
       " 2,\n",
       " 1879,\n",
       " Decimal('0.99'),\n",
       " datetime.datetime(2007, 2, 17, 1, 26, 0, 996577))"
      ]
     },
     "execution_count": 13,
     "metadata": {},
     "output_type": "execute_result"
    }
   ],
   "source": [
    "data[0]"
   ]
  },
  {
   "cell_type": "code",
   "execution_count": 14,
   "id": "dc07a85a",
   "metadata": {},
   "outputs": [
    {
     "data": {
      "text/plain": [
       "Decimal('0.99')"
      ]
     },
     "execution_count": 14,
     "metadata": {},
     "output_type": "execute_result"
    }
   ],
   "source": [
    "data[0][4]"
   ]
  },
  {
   "cell_type": "code",
   "execution_count": 15,
   "id": "545ae47f",
   "metadata": {},
   "outputs": [],
   "source": [
    "conn.close()"
   ]
  }
 ],
 "metadata": {
  "kernelspec": {
   "display_name": "Python 3 (ipykernel)",
   "language": "python",
   "name": "python3"
  },
  "language_info": {
   "codemirror_mode": {
    "name": "ipython",
    "version": 3
   },
   "file_extension": ".py",
   "mimetype": "text/x-python",
   "name": "python",
   "nbconvert_exporter": "python",
   "pygments_lexer": "ipython3",
   "version": "3.10.1"
  }
 },
 "nbformat": 4,
 "nbformat_minor": 5
}
